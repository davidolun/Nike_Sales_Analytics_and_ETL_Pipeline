{
 "cells": [
  {
   "cell_type": "markdown",
   "id": "ce992ad1-d9ca-443e-9cc3-636bcac73c49",
   "metadata": {
    "scrolled": true
   },
   "source": [
    "# Nike Sales Dataset Analysis\n",
    "**Context:** This dataset contains 2,500+ synthetic sales transactions from Nike's retail and online channels. It includes product info, sales channels, discounts, revenue, profit, and customer segments.  \n",
    "**Goal:** Clean the dataset, perform analysis, and build actionable dashboards.\n"
   ]
  },
  {
   "cell_type": "code",
   "execution_count": 1,
   "id": "3e955bca-c091-459e-8e76-ed48870e0751",
   "metadata": {},
   "outputs": [],
   "source": [
    "import pandas as pd \n",
    "import numpy as np \n",
    "import matplotlib.pyplot as plt \n",
    "import seaborn as sns "
   ]
  },
  {
   "cell_type": "markdown",
   "id": "82d04250-daae-4734-83d2-859eb93c6e3b",
   "metadata": {},
   "source": [
    "# Extraction\n",
    "In this phase, we load the raw Nike sales dataset into Python using Pandas.  \n",
    "This dataset simulates retail and online transactions, and contains messy, uncleaned data.  \n",
    "The goal of this step is to make the data accessible for cleaning and analysis.\n"
   ]
  },
  {
   "cell_type": "code",
   "execution_count": 2,
   "id": "9000790a-ea66-4435-a56f-c6f372fdbb97",
   "metadata": {},
   "outputs": [],
   "source": [
    "# Load raw CSV into DataFrame\n",
    "df = pd.read_csv(\"../data/Nike_Sales_Uncleaned.csv\")"
   ]
  },
  {
   "cell_type": "markdown",
   "id": "e3ca4a66-df53-4343-83f4-b0ca3d5b9575",
   "metadata": {},
   "source": [
    "# Exploring data "
   ]
  },
  {
   "cell_type": "code",
   "execution_count": 3,
   "id": "d94d884e-61b6-4d52-8cb3-9ce102f5c8a0",
   "metadata": {},
   "outputs": [
    {
     "data": {
      "text/html": [
       "<div>\n",
       "<style scoped>\n",
       "    .dataframe tbody tr th:only-of-type {\n",
       "        vertical-align: middle;\n",
       "    }\n",
       "\n",
       "    .dataframe tbody tr th {\n",
       "        vertical-align: top;\n",
       "    }\n",
       "\n",
       "    .dataframe thead th {\n",
       "        text-align: right;\n",
       "    }\n",
       "</style>\n",
       "<table border=\"1\" class=\"dataframe\">\n",
       "  <thead>\n",
       "    <tr style=\"text-align: right;\">\n",
       "      <th></th>\n",
       "      <th>Order_ID</th>\n",
       "      <th>Gender_Category</th>\n",
       "      <th>Product_Line</th>\n",
       "      <th>Product_Name</th>\n",
       "      <th>Size</th>\n",
       "      <th>Units_Sold</th>\n",
       "      <th>MRP</th>\n",
       "      <th>Discount_Applied</th>\n",
       "      <th>Revenue</th>\n",
       "      <th>Order_Date</th>\n",
       "      <th>Sales_Channel</th>\n",
       "      <th>Region</th>\n",
       "      <th>Profit</th>\n",
       "    </tr>\n",
       "  </thead>\n",
       "  <tbody>\n",
       "    <tr>\n",
       "      <th>0</th>\n",
       "      <td>2000</td>\n",
       "      <td>Kids</td>\n",
       "      <td>Training</td>\n",
       "      <td>SuperRep Go</td>\n",
       "      <td>M</td>\n",
       "      <td>NaN</td>\n",
       "      <td>NaN</td>\n",
       "      <td>0.47</td>\n",
       "      <td>0.0</td>\n",
       "      <td>2024-03-09</td>\n",
       "      <td>Online</td>\n",
       "      <td>bengaluru</td>\n",
       "      <td>-770.45</td>\n",
       "    </tr>\n",
       "    <tr>\n",
       "      <th>1</th>\n",
       "      <td>2001</td>\n",
       "      <td>Women</td>\n",
       "      <td>Soccer</td>\n",
       "      <td>Tiempo Legend</td>\n",
       "      <td>M</td>\n",
       "      <td>3.0</td>\n",
       "      <td>4957.93</td>\n",
       "      <td>NaN</td>\n",
       "      <td>0.0</td>\n",
       "      <td>2024-07-09</td>\n",
       "      <td>Retail</td>\n",
       "      <td>Hyd</td>\n",
       "      <td>-112.53</td>\n",
       "    </tr>\n",
       "    <tr>\n",
       "      <th>2</th>\n",
       "      <td>2002</td>\n",
       "      <td>Women</td>\n",
       "      <td>Soccer</td>\n",
       "      <td>Premier III</td>\n",
       "      <td>M</td>\n",
       "      <td>4.0</td>\n",
       "      <td>NaN</td>\n",
       "      <td>NaN</td>\n",
       "      <td>0.0</td>\n",
       "      <td>NaN</td>\n",
       "      <td>Retail</td>\n",
       "      <td>Mumbai</td>\n",
       "      <td>3337.34</td>\n",
       "    </tr>\n",
       "    <tr>\n",
       "      <th>3</th>\n",
       "      <td>2003</td>\n",
       "      <td>Kids</td>\n",
       "      <td>Lifestyle</td>\n",
       "      <td>Blazer Mid</td>\n",
       "      <td>L</td>\n",
       "      <td>NaN</td>\n",
       "      <td>9673.57</td>\n",
       "      <td>NaN</td>\n",
       "      <td>0.0</td>\n",
       "      <td>04-10-2024</td>\n",
       "      <td>Online</td>\n",
       "      <td>Pune</td>\n",
       "      <td>3376.85</td>\n",
       "    </tr>\n",
       "    <tr>\n",
       "      <th>4</th>\n",
       "      <td>2004</td>\n",
       "      <td>Kids</td>\n",
       "      <td>Running</td>\n",
       "      <td>React Infinity</td>\n",
       "      <td>XL</td>\n",
       "      <td>NaN</td>\n",
       "      <td>NaN</td>\n",
       "      <td>NaN</td>\n",
       "      <td>0.0</td>\n",
       "      <td>2024/09/12</td>\n",
       "      <td>Retail</td>\n",
       "      <td>Delhi</td>\n",
       "      <td>187.89</td>\n",
       "    </tr>\n",
       "  </tbody>\n",
       "</table>\n",
       "</div>"
      ],
      "text/plain": [
       "   Order_ID Gender_Category Product_Line    Product_Name Size  Units_Sold  \\\n",
       "0      2000            Kids     Training     SuperRep Go    M         NaN   \n",
       "1      2001           Women       Soccer   Tiempo Legend    M         3.0   \n",
       "2      2002           Women       Soccer     Premier III    M         4.0   \n",
       "3      2003            Kids    Lifestyle      Blazer Mid    L         NaN   \n",
       "4      2004            Kids      Running  React Infinity   XL         NaN   \n",
       "\n",
       "       MRP  Discount_Applied  Revenue  Order_Date Sales_Channel     Region  \\\n",
       "0      NaN              0.47      0.0  2024-03-09        Online  bengaluru   \n",
       "1  4957.93               NaN      0.0  2024-07-09        Retail        Hyd   \n",
       "2      NaN               NaN      0.0         NaN        Retail     Mumbai   \n",
       "3  9673.57               NaN      0.0  04-10-2024        Online       Pune   \n",
       "4      NaN               NaN      0.0  2024/09/12        Retail      Delhi   \n",
       "\n",
       "    Profit  \n",
       "0  -770.45  \n",
       "1  -112.53  \n",
       "2  3337.34  \n",
       "3  3376.85  \n",
       "4   187.89  "
      ]
     },
     "execution_count": 3,
     "metadata": {},
     "output_type": "execute_result"
    }
   ],
   "source": [
    "df.head()"
   ]
  },
  {
   "cell_type": "code",
   "execution_count": 4,
   "id": "4e7edafa-fd0a-4e53-9726-ed08c2beb0e9",
   "metadata": {},
   "outputs": [
    {
     "data": {
      "text/html": [
       "<div>\n",
       "<style scoped>\n",
       "    .dataframe tbody tr th:only-of-type {\n",
       "        vertical-align: middle;\n",
       "    }\n",
       "\n",
       "    .dataframe tbody tr th {\n",
       "        vertical-align: top;\n",
       "    }\n",
       "\n",
       "    .dataframe thead th {\n",
       "        text-align: right;\n",
       "    }\n",
       "</style>\n",
       "<table border=\"1\" class=\"dataframe\">\n",
       "  <thead>\n",
       "    <tr style=\"text-align: right;\">\n",
       "      <th></th>\n",
       "      <th>Order_ID</th>\n",
       "      <th>Gender_Category</th>\n",
       "      <th>Product_Line</th>\n",
       "      <th>Product_Name</th>\n",
       "      <th>Size</th>\n",
       "      <th>Units_Sold</th>\n",
       "      <th>MRP</th>\n",
       "      <th>Discount_Applied</th>\n",
       "      <th>Revenue</th>\n",
       "      <th>Order_Date</th>\n",
       "      <th>Sales_Channel</th>\n",
       "      <th>Region</th>\n",
       "      <th>Profit</th>\n",
       "    </tr>\n",
       "  </thead>\n",
       "  <tbody>\n",
       "    <tr>\n",
       "      <th>2109</th>\n",
       "      <td>4109</td>\n",
       "      <td>Kids</td>\n",
       "      <td>Training</td>\n",
       "      <td>SuperRep Go</td>\n",
       "      <td>12</td>\n",
       "      <td>NaN</td>\n",
       "      <td>9731.83</td>\n",
       "      <td>NaN</td>\n",
       "      <td>0.0</td>\n",
       "      <td>2024/11/29</td>\n",
       "      <td>Online</td>\n",
       "      <td>Mumbai</td>\n",
       "      <td>-675.88</td>\n",
       "    </tr>\n",
       "  </tbody>\n",
       "</table>\n",
       "</div>"
      ],
      "text/plain": [
       "      Order_ID Gender_Category Product_Line Product_Name Size  Units_Sold  \\\n",
       "2109      4109            Kids     Training  SuperRep Go   12         NaN   \n",
       "\n",
       "          MRP  Discount_Applied  Revenue  Order_Date Sales_Channel  Region  \\\n",
       "2109  9731.83               NaN      0.0  2024/11/29        Online  Mumbai   \n",
       "\n",
       "      Profit  \n",
       "2109 -675.88  "
      ]
     },
     "execution_count": 4,
     "metadata": {},
     "output_type": "execute_result"
    }
   ],
   "source": [
    "df.sample()"
   ]
  },
  {
   "cell_type": "code",
   "execution_count": 5,
   "id": "e6935290-0c97-486f-ac16-c591db5f1236",
   "metadata": {},
   "outputs": [
    {
     "data": {
      "text/plain": [
       "(2500, 13)"
      ]
     },
     "execution_count": 5,
     "metadata": {},
     "output_type": "execute_result"
    }
   ],
   "source": [
    "df.shape"
   ]
  },
  {
   "cell_type": "code",
   "execution_count": 6,
   "id": "076a138a-c9ce-4914-a144-803df9e261af",
   "metadata": {},
   "outputs": [
    {
     "data": {
      "text/html": [
       "<div>\n",
       "<style scoped>\n",
       "    .dataframe tbody tr th:only-of-type {\n",
       "        vertical-align: middle;\n",
       "    }\n",
       "\n",
       "    .dataframe tbody tr th {\n",
       "        vertical-align: top;\n",
       "    }\n",
       "\n",
       "    .dataframe thead th {\n",
       "        text-align: right;\n",
       "    }\n",
       "</style>\n",
       "<table border=\"1\" class=\"dataframe\">\n",
       "  <thead>\n",
       "    <tr style=\"text-align: right;\">\n",
       "      <th></th>\n",
       "      <th>Order_ID</th>\n",
       "      <th>Gender_Category</th>\n",
       "      <th>Product_Line</th>\n",
       "      <th>Product_Name</th>\n",
       "      <th>Size</th>\n",
       "      <th>Units_Sold</th>\n",
       "      <th>MRP</th>\n",
       "      <th>Discount_Applied</th>\n",
       "      <th>Revenue</th>\n",
       "      <th>Order_Date</th>\n",
       "      <th>Sales_Channel</th>\n",
       "      <th>Region</th>\n",
       "      <th>Profit</th>\n",
       "    </tr>\n",
       "  </thead>\n",
       "  <tbody>\n",
       "    <tr>\n",
       "      <th>2495</th>\n",
       "      <td>4495</td>\n",
       "      <td>Kids</td>\n",
       "      <td>Basketball</td>\n",
       "      <td>Kyrie Flytrap</td>\n",
       "      <td>XL</td>\n",
       "      <td>3.0</td>\n",
       "      <td>NaN</td>\n",
       "      <td>NaN</td>\n",
       "      <td>0.0</td>\n",
       "      <td>2025-05-14</td>\n",
       "      <td>Online</td>\n",
       "      <td>Pune</td>\n",
       "      <td>2.97</td>\n",
       "    </tr>\n",
       "    <tr>\n",
       "      <th>2496</th>\n",
       "      <td>4496</td>\n",
       "      <td>Men</td>\n",
       "      <td>Basketball</td>\n",
       "      <td>Kyrie Flytrap</td>\n",
       "      <td>L</td>\n",
       "      <td>-1.0</td>\n",
       "      <td>NaN</td>\n",
       "      <td>NaN</td>\n",
       "      <td>0.0</td>\n",
       "      <td>NaN</td>\n",
       "      <td>Online</td>\n",
       "      <td>Hyd</td>\n",
       "      <td>-487.36</td>\n",
       "    </tr>\n",
       "    <tr>\n",
       "      <th>2497</th>\n",
       "      <td>4497</td>\n",
       "      <td>Men</td>\n",
       "      <td>Soccer</td>\n",
       "      <td>Tiempo Legend</td>\n",
       "      <td>7</td>\n",
       "      <td>NaN</td>\n",
       "      <td>6647.60</td>\n",
       "      <td>0.52</td>\n",
       "      <td>0.0</td>\n",
       "      <td>02-07-2025</td>\n",
       "      <td>Retail</td>\n",
       "      <td>Bangalore</td>\n",
       "      <td>-918.14</td>\n",
       "    </tr>\n",
       "    <tr>\n",
       "      <th>2498</th>\n",
       "      <td>4498</td>\n",
       "      <td>Women</td>\n",
       "      <td>Training</td>\n",
       "      <td>ZoomX Invincible</td>\n",
       "      <td>NaN</td>\n",
       "      <td>4.0</td>\n",
       "      <td>5358.70</td>\n",
       "      <td>NaN</td>\n",
       "      <td>0.0</td>\n",
       "      <td>11-12-2024</td>\n",
       "      <td>Online</td>\n",
       "      <td>Mumbai</td>\n",
       "      <td>3352.29</td>\n",
       "    </tr>\n",
       "    <tr>\n",
       "      <th>2499</th>\n",
       "      <td>4499</td>\n",
       "      <td>Women</td>\n",
       "      <td>Running</td>\n",
       "      <td>Air Zoom</td>\n",
       "      <td>M</td>\n",
       "      <td>NaN</td>\n",
       "      <td>5550.99</td>\n",
       "      <td>NaN</td>\n",
       "      <td>0.0</td>\n",
       "      <td>23-11-2024</td>\n",
       "      <td>Retail</td>\n",
       "      <td>Mumbai</td>\n",
       "      <td>2453.57</td>\n",
       "    </tr>\n",
       "  </tbody>\n",
       "</table>\n",
       "</div>"
      ],
      "text/plain": [
       "      Order_ID Gender_Category Product_Line      Product_Name Size  \\\n",
       "2495      4495            Kids   Basketball     Kyrie Flytrap   XL   \n",
       "2496      4496             Men   Basketball     Kyrie Flytrap    L   \n",
       "2497      4497             Men       Soccer     Tiempo Legend    7   \n",
       "2498      4498           Women     Training  ZoomX Invincible  NaN   \n",
       "2499      4499           Women      Running          Air Zoom    M   \n",
       "\n",
       "      Units_Sold      MRP  Discount_Applied  Revenue  Order_Date  \\\n",
       "2495         3.0      NaN               NaN      0.0  2025-05-14   \n",
       "2496        -1.0      NaN               NaN      0.0         NaN   \n",
       "2497         NaN  6647.60              0.52      0.0  02-07-2025   \n",
       "2498         4.0  5358.70               NaN      0.0  11-12-2024   \n",
       "2499         NaN  5550.99               NaN      0.0  23-11-2024   \n",
       "\n",
       "     Sales_Channel     Region   Profit  \n",
       "2495        Online       Pune     2.97  \n",
       "2496        Online        Hyd  -487.36  \n",
       "2497        Retail  Bangalore  -918.14  \n",
       "2498        Online     Mumbai  3352.29  \n",
       "2499        Retail     Mumbai  2453.57  "
      ]
     },
     "execution_count": 6,
     "metadata": {},
     "output_type": "execute_result"
    }
   ],
   "source": [
    "df.tail()"
   ]
  },
  {
   "cell_type": "code",
   "execution_count": 7,
   "id": "29cb99a2-b2ad-4369-8bb1-36eb37152523",
   "metadata": {},
   "outputs": [
    {
     "name": "stdout",
     "output_type": "stream",
     "text": [
      "Column Names: ['Order_ID', 'Gender_Category', 'Product_Line', 'Product_Name', 'Size', 'Units_Sold', 'MRP', 'Discount_Applied', 'Revenue', 'Order_Date', 'Sales_Channel', 'Region', 'Profit']\n"
     ]
    }
   ],
   "source": [
    "print(\"Column Names:\", df.columns.tolist())"
   ]
  },
  {
   "cell_type": "code",
   "execution_count": 8,
   "id": "45aa67ad-c110-4169-a3ba-87a329a3ee8b",
   "metadata": {},
   "outputs": [
    {
     "data": {
      "text/plain": [
       "Order_ID              int64\n",
       "Gender_Category      object\n",
       "Product_Line         object\n",
       "Product_Name         object\n",
       "Size                 object\n",
       "Units_Sold          float64\n",
       "MRP                 float64\n",
       "Discount_Applied    float64\n",
       "Revenue             float64\n",
       "Order_Date           object\n",
       "Sales_Channel        object\n",
       "Region               object\n",
       "Profit              float64\n",
       "dtype: object"
      ]
     },
     "execution_count": 8,
     "metadata": {},
     "output_type": "execute_result"
    }
   ],
   "source": [
    "df.dtypes"
   ]
  },
  {
   "cell_type": "code",
   "execution_count": 9,
   "id": "565913b6-ecdf-46c6-b0bf-3d88760198f7",
   "metadata": {},
   "outputs": [
    {
     "name": "stdout",
     "output_type": "stream",
     "text": [
      "Nulls per column:\n",
      " Order_ID               0\n",
      "Gender_Category        0\n",
      "Product_Line           0\n",
      "Product_Name           0\n",
      "Size                 510\n",
      "Units_Sold          1235\n",
      "MRP                 1254\n",
      "Discount_Applied    1668\n",
      "Revenue                0\n",
      "Order_Date           616\n",
      "Sales_Channel          0\n",
      "Region                 0\n",
      "Profit                 0\n",
      "dtype: int64\n"
     ]
    }
   ],
   "source": [
    "print(\"Nulls per column:\\n\", df.isnull().sum())"
   ]
  },
  {
   "cell_type": "code",
   "execution_count": 10,
   "id": "935e9a01-d5eb-4b09-b285-6e63db61f6cf",
   "metadata": {},
   "outputs": [
    {
     "name": "stdout",
     "output_type": "stream",
     "text": [
      "Duplicate rows: 0\n",
      "Duplicate Order_IDs: 114\n"
     ]
    }
   ],
   "source": [
    "print(f\"Duplicate rows: {df.duplicated().sum()}\")\n",
    "print(f\"Duplicate Order_IDs: {df.duplicated(subset='Order_ID').sum()}\")\n"
   ]
  },
  {
   "cell_type": "markdown",
   "id": "e6a83191-6475-4d37-8539-fa1b1b0a5f87",
   "metadata": {},
   "source": [
    "# Transformation\n",
    "This phase involves cleaning and preparing the dataset for analysis.  \n",
    "Key transformations include:\n",
    "- Filling missing values for `Size`, `Units_Sold`, `MRP`, `Discount_Applied`, and `Order_Date`\n",
    "- Standardizing region names and fixing typos\n",
    "- Handling negative or zero `Units_Sold`\n",
    "- Correcting unrealistic discounts (>100%) and recalculating revenue\n",
    "- Ensuring correct data types (`datetime`, `float`, `int`)  \n",
    "- Optional: flagging returns or negative profits for business insights\n"
   ]
  },
  {
   "cell_type": "markdown",
   "id": "fa33e44b-1589-45c2-b0a3-387e845fcb6f",
   "metadata": {},
   "source": [
    "# Step 1: Handle Missing Values\n"
   ]
  },
  {
   "cell_type": "code",
   "execution_count": 11,
   "id": "ee99e832-2f8c-4dfc-a811-ffc3ce616755",
   "metadata": {},
   "outputs": [],
   "source": [
    "# Fill missing Size values with the most frequent value (mode)\n",
    "df[\"Size\"] = df[\"Size\"].fillna(df[\"Size\"].mode()[0])\n",
    "\n",
    "# Fill Units_Sold nulls with median\n",
    "df[\"Units_Sold\"] = df[\"Units_Sold\"].fillna(df[\"Units_Sold\"].median())\n",
    "\n",
    "# Fill MRP nulls with median\n",
    "df[\"MRP\"] = df[\"MRP\"].fillna(df[\"MRP\"].median())\n",
    "\n",
    "# Fill Discount_Applied nulls with 0 (assume no discount)\n",
    "df[\"Discount_Applied\"] = df[\"Discount_Applied\"].fillna(0)\n",
    "\n",
    "# Convert Order_Date to datetime\n",
    "df[\"Order_Date\"] = pd.to_datetime(df[\"Order_Date\"], errors=\"coerce\")\n",
    "\n",
    "# Fill missing Order_Date with the most frequent date\n",
    "df[\"Order_Date\"] = df[\"Order_Date\"].fillna(df[\"Order_Date\"].mode()[0])\n"
   ]
  },
  {
   "cell_type": "code",
   "execution_count": 12,
   "id": "25bd63e8-16b9-4c53-ab3c-059fa0130605",
   "metadata": {},
   "outputs": [
    {
     "name": "stdout",
     "output_type": "stream",
     "text": [
      "Nulls per column:\n",
      " Order_ID            0\n",
      "Gender_Category     0\n",
      "Product_Line        0\n",
      "Product_Name        0\n",
      "Size                0\n",
      "Units_Sold          0\n",
      "MRP                 0\n",
      "Discount_Applied    0\n",
      "Revenue             0\n",
      "Order_Date          0\n",
      "Sales_Channel       0\n",
      "Region              0\n",
      "Profit              0\n",
      "dtype: int64\n"
     ]
    }
   ],
   "source": [
    "print(\"Nulls per column:\\n\", df.isnull().sum())"
   ]
  },
  {
   "cell_type": "code",
   "execution_count": 13,
   "id": "51cbe2b2-9d20-4b11-9c9b-df6c13020a10",
   "metadata": {},
   "outputs": [
    {
     "data": {
      "text/html": [
       "<div>\n",
       "<style scoped>\n",
       "    .dataframe tbody tr th:only-of-type {\n",
       "        vertical-align: middle;\n",
       "    }\n",
       "\n",
       "    .dataframe tbody tr th {\n",
       "        vertical-align: top;\n",
       "    }\n",
       "\n",
       "    .dataframe thead th {\n",
       "        text-align: right;\n",
       "    }\n",
       "</style>\n",
       "<table border=\"1\" class=\"dataframe\">\n",
       "  <thead>\n",
       "    <tr style=\"text-align: right;\">\n",
       "      <th></th>\n",
       "      <th>Order_ID</th>\n",
       "      <th>Gender_Category</th>\n",
       "      <th>Product_Line</th>\n",
       "      <th>Product_Name</th>\n",
       "      <th>Size</th>\n",
       "      <th>Units_Sold</th>\n",
       "      <th>MRP</th>\n",
       "      <th>Discount_Applied</th>\n",
       "      <th>Revenue</th>\n",
       "      <th>Order_Date</th>\n",
       "      <th>Sales_Channel</th>\n",
       "      <th>Region</th>\n",
       "      <th>Profit</th>\n",
       "    </tr>\n",
       "  </thead>\n",
       "  <tbody>\n",
       "    <tr>\n",
       "      <th>0</th>\n",
       "      <td>2000</td>\n",
       "      <td>Kids</td>\n",
       "      <td>Training</td>\n",
       "      <td>SuperRep Go</td>\n",
       "      <td>M</td>\n",
       "      <td>2.0</td>\n",
       "      <td>6110.03</td>\n",
       "      <td>0.47</td>\n",
       "      <td>0.0</td>\n",
       "      <td>2024-03-09</td>\n",
       "      <td>Online</td>\n",
       "      <td>bengaluru</td>\n",
       "      <td>-770.45</td>\n",
       "    </tr>\n",
       "    <tr>\n",
       "      <th>1</th>\n",
       "      <td>2001</td>\n",
       "      <td>Women</td>\n",
       "      <td>Soccer</td>\n",
       "      <td>Tiempo Legend</td>\n",
       "      <td>M</td>\n",
       "      <td>3.0</td>\n",
       "      <td>4957.93</td>\n",
       "      <td>0.00</td>\n",
       "      <td>0.0</td>\n",
       "      <td>2024-07-09</td>\n",
       "      <td>Retail</td>\n",
       "      <td>Hyd</td>\n",
       "      <td>-112.53</td>\n",
       "    </tr>\n",
       "    <tr>\n",
       "      <th>2</th>\n",
       "      <td>2002</td>\n",
       "      <td>Women</td>\n",
       "      <td>Soccer</td>\n",
       "      <td>Premier III</td>\n",
       "      <td>M</td>\n",
       "      <td>4.0</td>\n",
       "      <td>6110.03</td>\n",
       "      <td>0.00</td>\n",
       "      <td>0.0</td>\n",
       "      <td>2024-12-21</td>\n",
       "      <td>Retail</td>\n",
       "      <td>Mumbai</td>\n",
       "      <td>3337.34</td>\n",
       "    </tr>\n",
       "    <tr>\n",
       "      <th>3</th>\n",
       "      <td>2003</td>\n",
       "      <td>Kids</td>\n",
       "      <td>Lifestyle</td>\n",
       "      <td>Blazer Mid</td>\n",
       "      <td>L</td>\n",
       "      <td>2.0</td>\n",
       "      <td>9673.57</td>\n",
       "      <td>0.00</td>\n",
       "      <td>0.0</td>\n",
       "      <td>2024-12-21</td>\n",
       "      <td>Online</td>\n",
       "      <td>Pune</td>\n",
       "      <td>3376.85</td>\n",
       "    </tr>\n",
       "    <tr>\n",
       "      <th>4</th>\n",
       "      <td>2004</td>\n",
       "      <td>Kids</td>\n",
       "      <td>Running</td>\n",
       "      <td>React Infinity</td>\n",
       "      <td>XL</td>\n",
       "      <td>2.0</td>\n",
       "      <td>6110.03</td>\n",
       "      <td>0.00</td>\n",
       "      <td>0.0</td>\n",
       "      <td>2024-12-21</td>\n",
       "      <td>Retail</td>\n",
       "      <td>Delhi</td>\n",
       "      <td>187.89</td>\n",
       "    </tr>\n",
       "  </tbody>\n",
       "</table>\n",
       "</div>"
      ],
      "text/plain": [
       "   Order_ID Gender_Category Product_Line    Product_Name Size  Units_Sold  \\\n",
       "0      2000            Kids     Training     SuperRep Go    M         2.0   \n",
       "1      2001           Women       Soccer   Tiempo Legend    M         3.0   \n",
       "2      2002           Women       Soccer     Premier III    M         4.0   \n",
       "3      2003            Kids    Lifestyle      Blazer Mid    L         2.0   \n",
       "4      2004            Kids      Running  React Infinity   XL         2.0   \n",
       "\n",
       "       MRP  Discount_Applied  Revenue Order_Date Sales_Channel     Region  \\\n",
       "0  6110.03              0.47      0.0 2024-03-09        Online  bengaluru   \n",
       "1  4957.93              0.00      0.0 2024-07-09        Retail        Hyd   \n",
       "2  6110.03              0.00      0.0 2024-12-21        Retail     Mumbai   \n",
       "3  9673.57              0.00      0.0 2024-12-21        Online       Pune   \n",
       "4  6110.03              0.00      0.0 2024-12-21        Retail      Delhi   \n",
       "\n",
       "    Profit  \n",
       "0  -770.45  \n",
       "1  -112.53  \n",
       "2  3337.34  \n",
       "3  3376.85  \n",
       "4   187.89  "
      ]
     },
     "execution_count": 13,
     "metadata": {},
     "output_type": "execute_result"
    }
   ],
   "source": [
    "df.head(5)"
   ]
  },
  {
   "cell_type": "markdown",
   "id": "258ea2f9-d576-4cef-9c4f-84044a1053c1",
   "metadata": {},
   "source": [
    "# Step 2: Remove Duplicate Transactions\n"
   ]
  },
  {
   "cell_type": "code",
   "execution_count": 14,
   "id": "52b99c5f-b482-4ef8-bc14-90128c6f6654",
   "metadata": {},
   "outputs": [
    {
     "data": {
      "text/plain": [
       "np.int64(114)"
      ]
     },
     "execution_count": 14,
     "metadata": {},
     "output_type": "execute_result"
    }
   ],
   "source": [
    "# Check duplicates\n",
    "df.duplicated(subset='Order_ID').sum()"
   ]
  },
  {
   "cell_type": "code",
   "execution_count": 15,
   "id": "7cd3042b-6fe4-4213-acbf-6d5b0a27b565",
   "metadata": {},
   "outputs": [],
   "source": [
    "# Remove duplicates\n",
    "df = df.drop_duplicates(subset='Order_ID', keep='first')"
   ]
  },
  {
   "cell_type": "code",
   "execution_count": 16,
   "id": "42242372-1523-4cc0-9072-26263d240685",
   "metadata": {},
   "outputs": [
    {
     "data": {
      "text/plain": [
       "(2386, 13)"
      ]
     },
     "execution_count": 16,
     "metadata": {},
     "output_type": "execute_result"
    }
   ],
   "source": [
    "df.shape"
   ]
  },
  {
   "cell_type": "markdown",
   "id": "a58520e2-cd70-4f42-9df6-d8ad9850cef6",
   "metadata": {},
   "source": [
    "**To ensure transaction uniqueness and accurate sales totals, duplicate Order_ID entries were removed.**"
   ]
  },
  {
   "cell_type": "markdown",
   "id": "43b4705e-913b-45da-89bf-485c18da137d",
   "metadata": {},
   "source": [
    "# Step 3: Handle region name typo"
   ]
  },
  {
   "cell_type": "code",
   "execution_count": 17,
   "id": "c755bd90-ce7e-4a78-ae73-00fbc6dd095a",
   "metadata": {},
   "outputs": [
    {
     "name": "stdout",
     "output_type": "stream",
     "text": [
      "['bengaluru' 'Hyd' 'Mumbai' 'Pune' 'Delhi' 'Bangalore' 'Hyderabad'\n",
      " 'hyderbad' 'Kolkata']\n",
      "Region\n",
      "Delhi        412\n",
      "Mumbai       405\n",
      "Kolkata      390\n",
      "Pune         376\n",
      "bengaluru    212\n",
      "Bangalore    203\n",
      "hyderbad     137\n",
      "Hyd          129\n",
      "Hyderabad    122\n",
      "Name: count, dtype: int64\n"
     ]
    }
   ],
   "source": [
    "# Show all unique cities in the Region column\n",
    "unique_cities = df['Region'].unique()\n",
    "print(unique_cities)\n",
    "\n",
    "#Count how many times each city appears,This helps spot rare typos:\n",
    "print(df['Region'].value_counts())\n"
   ]
  },
  {
   "cell_type": "markdown",
   "id": "1520d174-af1d-47a3-8c03-ce067071516a",
   "metadata": {},
   "source": [
    "### Cleaning the Region Column\n",
    "We standardize region names by correcting common typos and abbreviations:\n",
    "- 'Bengaluru' → 'Bangalore'\n",
    "- 'Hyd' and 'hyderbad' → 'Hyderabad'\n",
    "\n",
    "This ensures accurate grouping and analysis by region."
   ]
  },
  {
   "cell_type": "code",
   "execution_count": 18,
   "id": "4000b519-cfcd-4358-855e-fe9c6e339dc0",
   "metadata": {},
   "outputs": [],
   "source": [
    "df['Region'] = df['Region'].str.strip().str.title()  # standardize capitalization\n",
    "\n",
    "# Replace common typos and abbreviations in Region\n",
    "df['Region'] = df['Region'].replace({\n",
    "    'Bengaluru': 'Bangalore',\n",
    "    'Hyd': 'Hyderabad',\n",
    "    'Hyderbad': 'Hyderabad'\n",
    "})"
   ]
  },
  {
   "cell_type": "code",
   "execution_count": 19,
   "id": "8e33cec4-1642-460a-a903-ef068dbcd5d3",
   "metadata": {},
   "outputs": [
    {
     "name": "stdout",
     "output_type": "stream",
     "text": [
      "['Bangalore' 'Hyderabad' 'Mumbai' 'Pune' 'Delhi' 'Kolkata']\n",
      "Region\n",
      "Bangalore    415\n",
      "Delhi        412\n",
      "Mumbai       405\n",
      "Kolkata      390\n",
      "Hyderabad    388\n",
      "Pune         376\n",
      "Name: count, dtype: int64\n"
     ]
    }
   ],
   "source": [
    "# Show all unique cities in the Region column\n",
    "unique_cities = df['Region'].unique()\n",
    "print(unique_cities)\n",
    "\n",
    "#Count how many times each city appears,This helps spot rare typos:\n",
    "print(df['Region'].value_counts())"
   ]
  },
  {
   "cell_type": "markdown",
   "id": "368a8351-487e-4446-99c0-d8f14ff5e28a",
   "metadata": {},
   "source": [
    "# Step 4: Handle Negative Profit "
   ]
  },
  {
   "cell_type": "code",
   "execution_count": 20,
   "id": "97d7cfad-50a7-4b6f-a69e-17231d75af39",
   "metadata": {},
   "outputs": [
    {
     "name": "stdout",
     "output_type": "stream",
     "text": [
      "Number of transactions with negative profit: 544\n"
     ]
    }
   ],
   "source": [
    "# Count how many transactions have negative profit\n",
    "negative_profit_count = (df['Profit'] < 0).sum()\n",
    "print(f\"Number of transactions with negative profit: {negative_profit_count}\")\n",
    "\n",
    "# Create a flag to identify transactions with losses\n",
    "df['Loss_Flag'] = df['Profit'] < 0"
   ]
  },
  {
   "cell_type": "code",
   "execution_count": 21,
   "id": "84660412-d316-46e9-999d-7209e3bb63a1",
   "metadata": {},
   "outputs": [
    {
     "name": "stdout",
     "output_type": "stream",
     "text": [
      "Percentage of transactions with negative profit: 22.80%\n"
     ]
    }
   ],
   "source": [
    "negative_profit_percentage = (negative_profit_count / len(df)) * 100\n",
    "print(f\"Percentage of transactions with negative profit: {negative_profit_percentage:.2f}%\")\n"
   ]
  },
  {
   "cell_type": "markdown",
   "id": "328c94fa-888a-4839-822c-b5e1d8b697b8",
   "metadata": {},
   "source": [
    "# Step 5: Validate revenue calculations"
   ]
  },
  {
   "cell_type": "code",
   "execution_count": 22,
   "id": "446873fd-e909-4397-a317-fef917406691",
   "metadata": {},
   "outputs": [
    {
     "data": {
      "text/html": [
       "<div>\n",
       "<style scoped>\n",
       "    .dataframe tbody tr th:only-of-type {\n",
       "        vertical-align: middle;\n",
       "    }\n",
       "\n",
       "    .dataframe tbody tr th {\n",
       "        vertical-align: top;\n",
       "    }\n",
       "\n",
       "    .dataframe thead th {\n",
       "        text-align: right;\n",
       "    }\n",
       "</style>\n",
       "<table border=\"1\" class=\"dataframe\">\n",
       "  <thead>\n",
       "    <tr style=\"text-align: right;\">\n",
       "      <th></th>\n",
       "      <th>Order_ID</th>\n",
       "      <th>Gender_Category</th>\n",
       "      <th>Product_Line</th>\n",
       "      <th>Product_Name</th>\n",
       "      <th>Size</th>\n",
       "      <th>Units_Sold</th>\n",
       "      <th>MRP</th>\n",
       "      <th>Discount_Applied</th>\n",
       "      <th>Revenue</th>\n",
       "      <th>Order_Date</th>\n",
       "      <th>Sales_Channel</th>\n",
       "      <th>Region</th>\n",
       "      <th>Profit</th>\n",
       "      <th>Loss_Flag</th>\n",
       "    </tr>\n",
       "  </thead>\n",
       "  <tbody>\n",
       "    <tr>\n",
       "      <th>0</th>\n",
       "      <td>2000</td>\n",
       "      <td>Kids</td>\n",
       "      <td>Training</td>\n",
       "      <td>SuperRep Go</td>\n",
       "      <td>M</td>\n",
       "      <td>2.0</td>\n",
       "      <td>6110.03</td>\n",
       "      <td>0.47</td>\n",
       "      <td>0.0</td>\n",
       "      <td>2024-03-09</td>\n",
       "      <td>Online</td>\n",
       "      <td>Bangalore</td>\n",
       "      <td>-770.45</td>\n",
       "      <td>True</td>\n",
       "    </tr>\n",
       "    <tr>\n",
       "      <th>1</th>\n",
       "      <td>2001</td>\n",
       "      <td>Women</td>\n",
       "      <td>Soccer</td>\n",
       "      <td>Tiempo Legend</td>\n",
       "      <td>M</td>\n",
       "      <td>3.0</td>\n",
       "      <td>4957.93</td>\n",
       "      <td>0.00</td>\n",
       "      <td>0.0</td>\n",
       "      <td>2024-07-09</td>\n",
       "      <td>Retail</td>\n",
       "      <td>Hyderabad</td>\n",
       "      <td>-112.53</td>\n",
       "      <td>True</td>\n",
       "    </tr>\n",
       "    <tr>\n",
       "      <th>2</th>\n",
       "      <td>2002</td>\n",
       "      <td>Women</td>\n",
       "      <td>Soccer</td>\n",
       "      <td>Premier III</td>\n",
       "      <td>M</td>\n",
       "      <td>4.0</td>\n",
       "      <td>6110.03</td>\n",
       "      <td>0.00</td>\n",
       "      <td>0.0</td>\n",
       "      <td>2024-12-21</td>\n",
       "      <td>Retail</td>\n",
       "      <td>Mumbai</td>\n",
       "      <td>3337.34</td>\n",
       "      <td>False</td>\n",
       "    </tr>\n",
       "  </tbody>\n",
       "</table>\n",
       "</div>"
      ],
      "text/plain": [
       "   Order_ID Gender_Category Product_Line   Product_Name Size  Units_Sold  \\\n",
       "0      2000            Kids     Training    SuperRep Go    M         2.0   \n",
       "1      2001           Women       Soccer  Tiempo Legend    M         3.0   \n",
       "2      2002           Women       Soccer    Premier III    M         4.0   \n",
       "\n",
       "       MRP  Discount_Applied  Revenue Order_Date Sales_Channel     Region  \\\n",
       "0  6110.03              0.47      0.0 2024-03-09        Online  Bangalore   \n",
       "1  4957.93              0.00      0.0 2024-07-09        Retail  Hyderabad   \n",
       "2  6110.03              0.00      0.0 2024-12-21        Retail     Mumbai   \n",
       "\n",
       "    Profit  Loss_Flag  \n",
       "0  -770.45       True  \n",
       "1  -112.53       True  \n",
       "2  3337.34      False  "
      ]
     },
     "execution_count": 22,
     "metadata": {},
     "output_type": "execute_result"
    }
   ],
   "source": [
    "df.head(3)"
   ]
  },
  {
   "cell_type": "code",
   "execution_count": 23,
   "id": "f0c4ec5d-8772-4f00-8a77-bbc99978ec50",
   "metadata": {},
   "outputs": [
    {
     "name": "stdout",
     "output_type": "stream",
     "text": [
      "🧾 Invalid Units_Sold (<=0): 408 rows\n"
     ]
    },
    {
     "data": {
      "text/html": [
       "<div>\n",
       "<style scoped>\n",
       "    .dataframe tbody tr th:only-of-type {\n",
       "        vertical-align: middle;\n",
       "    }\n",
       "\n",
       "    .dataframe tbody tr th {\n",
       "        vertical-align: top;\n",
       "    }\n",
       "\n",
       "    .dataframe thead th {\n",
       "        text-align: right;\n",
       "    }\n",
       "</style>\n",
       "<table border=\"1\" class=\"dataframe\">\n",
       "  <thead>\n",
       "    <tr style=\"text-align: right;\">\n",
       "      <th></th>\n",
       "      <th>Units_Sold</th>\n",
       "      <th>Product_Name</th>\n",
       "      <th>Region</th>\n",
       "    </tr>\n",
       "  </thead>\n",
       "  <tbody>\n",
       "    <tr>\n",
       "      <th>8</th>\n",
       "      <td>-1.0</td>\n",
       "      <td>Premier III</td>\n",
       "      <td>Hyderabad</td>\n",
       "    </tr>\n",
       "    <tr>\n",
       "      <th>11</th>\n",
       "      <td>-1.0</td>\n",
       "      <td>Flex Trainer</td>\n",
       "      <td>Hyderabad</td>\n",
       "    </tr>\n",
       "    <tr>\n",
       "      <th>12</th>\n",
       "      <td>-1.0</td>\n",
       "      <td>Blazer Mid</td>\n",
       "      <td>Delhi</td>\n",
       "    </tr>\n",
       "    <tr>\n",
       "      <th>19</th>\n",
       "      <td>0.0</td>\n",
       "      <td>Air Zoom</td>\n",
       "      <td>Hyderabad</td>\n",
       "    </tr>\n",
       "    <tr>\n",
       "      <th>20</th>\n",
       "      <td>-1.0</td>\n",
       "      <td>Tiempo Legend</td>\n",
       "      <td>Mumbai</td>\n",
       "    </tr>\n",
       "  </tbody>\n",
       "</table>\n",
       "</div>"
      ],
      "text/plain": [
       "    Units_Sold   Product_Name     Region\n",
       "8         -1.0    Premier III  Hyderabad\n",
       "11        -1.0   Flex Trainer  Hyderabad\n",
       "12        -1.0     Blazer Mid      Delhi\n",
       "19         0.0       Air Zoom  Hyderabad\n",
       "20        -1.0  Tiempo Legend     Mumbai"
      ]
     },
     "execution_count": 23,
     "metadata": {},
     "output_type": "execute_result"
    }
   ],
   "source": [
    "# Count of negative or zero Units_Sold\n",
    "invalid_units = df[df['Units_Sold'] <= 0]\n",
    "print(f\"🧾 Invalid Units_Sold (<=0): {len(invalid_units)} rows\")\n",
    "\n",
    "# Optional: view a few examples\n",
    "invalid_units[['Units_Sold', 'Product_Name', 'Region']].head()\n"
   ]
  },
  {
   "cell_type": "code",
   "execution_count": 24,
   "id": "e91fd7c8-7836-4809-964b-875093bd8bf3",
   "metadata": {},
   "outputs": [],
   "source": [
    "# Convert negative Units_Sold to positive\n",
    "# This assumes negative values represent returns or data entry errors,\n",
    "# and we want to analyze the absolute quantity sold for revenue calculations.\n",
    "df['Units_Sold'] = df['Units_Sold'].abs()\n"
   ]
  },
  {
   "cell_type": "code",
   "execution_count": 25,
   "id": "c1e3284a-1c9d-4719-99e5-1288049d08d6",
   "metadata": {},
   "outputs": [
    {
     "name": "stdout",
     "output_type": "stream",
     "text": [
      "🧾 Invalid Units_Sold (<=0): 0 rows\n"
     ]
    }
   ],
   "source": [
    "# Count of negative or zero Units_Sold\n",
    "invalid_units = df[df['Units_Sold'] < 0]\n",
    "print(f\"🧾 Invalid Units_Sold (<=0): {len(invalid_units)} rows\")\n",
    "\n",
    "\n"
   ]
  },
  {
   "cell_type": "code",
   "execution_count": 26,
   "id": "61d8d1df-c5c1-44c0-b4f9-0b7a4e3e6182",
   "metadata": {},
   "outputs": [],
   "source": [
    "#Recalculate and replace the 'Revenue' column\n",
    "df['Revenue'] = df['Units_Sold'] * df['MRP'] * (1 - df['Discount_Applied'] / 100)\n"
   ]
  },
  {
   "cell_type": "code",
   "execution_count": 27,
   "id": "9fc0117e-3e95-4f14-ab1a-cba95af91a0d",
   "metadata": {},
   "outputs": [
    {
     "data": {
      "text/html": [
       "<div>\n",
       "<style scoped>\n",
       "    .dataframe tbody tr th:only-of-type {\n",
       "        vertical-align: middle;\n",
       "    }\n",
       "\n",
       "    .dataframe tbody tr th {\n",
       "        vertical-align: top;\n",
       "    }\n",
       "\n",
       "    .dataframe thead th {\n",
       "        text-align: right;\n",
       "    }\n",
       "</style>\n",
       "<table border=\"1\" class=\"dataframe\">\n",
       "  <thead>\n",
       "    <tr style=\"text-align: right;\">\n",
       "      <th></th>\n",
       "      <th>Order_ID</th>\n",
       "      <th>Gender_Category</th>\n",
       "      <th>Product_Line</th>\n",
       "      <th>Product_Name</th>\n",
       "      <th>Size</th>\n",
       "      <th>Units_Sold</th>\n",
       "      <th>MRP</th>\n",
       "      <th>Discount_Applied</th>\n",
       "      <th>Revenue</th>\n",
       "      <th>Order_Date</th>\n",
       "      <th>Sales_Channel</th>\n",
       "      <th>Region</th>\n",
       "      <th>Profit</th>\n",
       "      <th>Loss_Flag</th>\n",
       "    </tr>\n",
       "  </thead>\n",
       "  <tbody>\n",
       "    <tr>\n",
       "      <th>0</th>\n",
       "      <td>2000</td>\n",
       "      <td>Kids</td>\n",
       "      <td>Training</td>\n",
       "      <td>SuperRep Go</td>\n",
       "      <td>M</td>\n",
       "      <td>2.0</td>\n",
       "      <td>6110.03</td>\n",
       "      <td>0.47</td>\n",
       "      <td>12162.625718</td>\n",
       "      <td>2024-03-09</td>\n",
       "      <td>Online</td>\n",
       "      <td>Bangalore</td>\n",
       "      <td>-770.45</td>\n",
       "      <td>True</td>\n",
       "    </tr>\n",
       "    <tr>\n",
       "      <th>1</th>\n",
       "      <td>2001</td>\n",
       "      <td>Women</td>\n",
       "      <td>Soccer</td>\n",
       "      <td>Tiempo Legend</td>\n",
       "      <td>M</td>\n",
       "      <td>3.0</td>\n",
       "      <td>4957.93</td>\n",
       "      <td>0.00</td>\n",
       "      <td>14873.790000</td>\n",
       "      <td>2024-07-09</td>\n",
       "      <td>Retail</td>\n",
       "      <td>Hyderabad</td>\n",
       "      <td>-112.53</td>\n",
       "      <td>True</td>\n",
       "    </tr>\n",
       "    <tr>\n",
       "      <th>2</th>\n",
       "      <td>2002</td>\n",
       "      <td>Women</td>\n",
       "      <td>Soccer</td>\n",
       "      <td>Premier III</td>\n",
       "      <td>M</td>\n",
       "      <td>4.0</td>\n",
       "      <td>6110.03</td>\n",
       "      <td>0.00</td>\n",
       "      <td>24440.120000</td>\n",
       "      <td>2024-12-21</td>\n",
       "      <td>Retail</td>\n",
       "      <td>Mumbai</td>\n",
       "      <td>3337.34</td>\n",
       "      <td>False</td>\n",
       "    </tr>\n",
       "  </tbody>\n",
       "</table>\n",
       "</div>"
      ],
      "text/plain": [
       "   Order_ID Gender_Category Product_Line   Product_Name Size  Units_Sold  \\\n",
       "0      2000            Kids     Training    SuperRep Go    M         2.0   \n",
       "1      2001           Women       Soccer  Tiempo Legend    M         3.0   \n",
       "2      2002           Women       Soccer    Premier III    M         4.0   \n",
       "\n",
       "       MRP  Discount_Applied       Revenue Order_Date Sales_Channel  \\\n",
       "0  6110.03              0.47  12162.625718 2024-03-09        Online   \n",
       "1  4957.93              0.00  14873.790000 2024-07-09        Retail   \n",
       "2  6110.03              0.00  24440.120000 2024-12-21        Retail   \n",
       "\n",
       "      Region   Profit  Loss_Flag  \n",
       "0  Bangalore  -770.45       True  \n",
       "1  Hyderabad  -112.53       True  \n",
       "2     Mumbai  3337.34      False  "
      ]
     },
     "execution_count": 27,
     "metadata": {},
     "output_type": "execute_result"
    }
   ],
   "source": [
    "df.head(3)"
   ]
  },
  {
   "cell_type": "markdown",
   "id": "963876d7-61f8-4b7e-a235-cbaaebef94b6",
   "metadata": {},
   "source": [
    "# Step 6: Standardize Product_Line & Gender_Category\n",
    "Fix capitalization or typos for consistent grouping."
   ]
  },
  {
   "cell_type": "code",
   "execution_count": 28,
   "id": "571ee31c-899f-437e-9cc6-642be7587fb5",
   "metadata": {},
   "outputs": [],
   "source": [
    "df['Product_Line'] = df['Product_Line'].str.strip().str.title()\n",
    "df['Gender_Category'] = df['Gender_Category'].str.strip().str.title()"
   ]
  },
  {
   "cell_type": "code",
   "execution_count": 29,
   "id": "3532a0b1-cc24-4e68-9ddb-08364a4cccbc",
   "metadata": {},
   "outputs": [
    {
     "data": {
      "text/html": [
       "<div>\n",
       "<style scoped>\n",
       "    .dataframe tbody tr th:only-of-type {\n",
       "        vertical-align: middle;\n",
       "    }\n",
       "\n",
       "    .dataframe tbody tr th {\n",
       "        vertical-align: top;\n",
       "    }\n",
       "\n",
       "    .dataframe thead th {\n",
       "        text-align: right;\n",
       "    }\n",
       "</style>\n",
       "<table border=\"1\" class=\"dataframe\">\n",
       "  <thead>\n",
       "    <tr style=\"text-align: right;\">\n",
       "      <th></th>\n",
       "      <th>Order_ID</th>\n",
       "      <th>Gender_Category</th>\n",
       "      <th>Product_Line</th>\n",
       "      <th>Product_Name</th>\n",
       "      <th>Size</th>\n",
       "      <th>Units_Sold</th>\n",
       "      <th>MRP</th>\n",
       "      <th>Discount_Applied</th>\n",
       "      <th>Revenue</th>\n",
       "      <th>Order_Date</th>\n",
       "      <th>Sales_Channel</th>\n",
       "      <th>Region</th>\n",
       "      <th>Profit</th>\n",
       "      <th>Loss_Flag</th>\n",
       "    </tr>\n",
       "  </thead>\n",
       "  <tbody>\n",
       "    <tr>\n",
       "      <th>0</th>\n",
       "      <td>2000</td>\n",
       "      <td>Kids</td>\n",
       "      <td>Training</td>\n",
       "      <td>SuperRep Go</td>\n",
       "      <td>M</td>\n",
       "      <td>2.0</td>\n",
       "      <td>6110.03</td>\n",
       "      <td>0.47</td>\n",
       "      <td>12162.625718</td>\n",
       "      <td>2024-03-09</td>\n",
       "      <td>Online</td>\n",
       "      <td>Bangalore</td>\n",
       "      <td>-770.45</td>\n",
       "      <td>True</td>\n",
       "    </tr>\n",
       "    <tr>\n",
       "      <th>1</th>\n",
       "      <td>2001</td>\n",
       "      <td>Women</td>\n",
       "      <td>Soccer</td>\n",
       "      <td>Tiempo Legend</td>\n",
       "      <td>M</td>\n",
       "      <td>3.0</td>\n",
       "      <td>4957.93</td>\n",
       "      <td>0.00</td>\n",
       "      <td>14873.790000</td>\n",
       "      <td>2024-07-09</td>\n",
       "      <td>Retail</td>\n",
       "      <td>Hyderabad</td>\n",
       "      <td>-112.53</td>\n",
       "      <td>True</td>\n",
       "    </tr>\n",
       "    <tr>\n",
       "      <th>2</th>\n",
       "      <td>2002</td>\n",
       "      <td>Women</td>\n",
       "      <td>Soccer</td>\n",
       "      <td>Premier III</td>\n",
       "      <td>M</td>\n",
       "      <td>4.0</td>\n",
       "      <td>6110.03</td>\n",
       "      <td>0.00</td>\n",
       "      <td>24440.120000</td>\n",
       "      <td>2024-12-21</td>\n",
       "      <td>Retail</td>\n",
       "      <td>Mumbai</td>\n",
       "      <td>3337.34</td>\n",
       "      <td>False</td>\n",
       "    </tr>\n",
       "  </tbody>\n",
       "</table>\n",
       "</div>"
      ],
      "text/plain": [
       "   Order_ID Gender_Category Product_Line   Product_Name Size  Units_Sold  \\\n",
       "0      2000            Kids     Training    SuperRep Go    M         2.0   \n",
       "1      2001           Women       Soccer  Tiempo Legend    M         3.0   \n",
       "2      2002           Women       Soccer    Premier III    M         4.0   \n",
       "\n",
       "       MRP  Discount_Applied       Revenue Order_Date Sales_Channel  \\\n",
       "0  6110.03              0.47  12162.625718 2024-03-09        Online   \n",
       "1  4957.93              0.00  14873.790000 2024-07-09        Retail   \n",
       "2  6110.03              0.00  24440.120000 2024-12-21        Retail   \n",
       "\n",
       "      Region   Profit  Loss_Flag  \n",
       "0  Bangalore  -770.45       True  \n",
       "1  Hyderabad  -112.53       True  \n",
       "2     Mumbai  3337.34      False  "
      ]
     },
     "execution_count": 29,
     "metadata": {},
     "output_type": "execute_result"
    }
   ],
   "source": [
    "df.head(3)"
   ]
  },
  {
   "cell_type": "markdown",
   "id": "e7b30ff1-b249-430d-ac59-ece0101f7e96",
   "metadata": {},
   "source": [
    "# Step 7: Convert Columns to Correct Data Types\n",
    "Make sure numeric columns are actually numeric."
   ]
  },
  {
   "cell_type": "code",
   "execution_count": 30,
   "id": "4ebf43e5-5579-4c8c-8de9-14b9a3500466",
   "metadata": {},
   "outputs": [],
   "source": [
    "df['Units_Sold'] = pd.to_numeric(df['Units_Sold'], errors='coerce')\n",
    "df['MRP'] = pd.to_numeric(df['MRP'], errors='coerce')\n",
    "df['Discount_Applied'] = pd.to_numeric(df['Discount_Applied'], errors='coerce')\n",
    "df['Revenue'] = pd.to_numeric(df['Revenue'], errors='coerce')\n",
    "df['Profit'] = pd.to_numeric(df['Profit'], errors='coerce')"
   ]
  },
  {
   "cell_type": "markdown",
   "id": "a433401e-337a-48ac-ab89-929cbc3e687c",
   "metadata": {},
   "source": [
    "# Step8: Outlier Detection\n",
    "Sometimes, there are transactions with unrealistically high prices or units."
   ]
  },
  {
   "cell_type": "code",
   "execution_count": 31,
   "id": "ce37b2f4-3fc0-44ae-a86c-0f420b324d0a",
   "metadata": {},
   "outputs": [],
   "source": [
    "# Remove outliers using IQR\n",
    "Q1 = df['Revenue'].quantile(0.25)\n",
    "Q3 = df['Revenue'].quantile(0.75)\n",
    "IQR = Q3 - Q1\n",
    "df = df[~((df['Revenue'] < (Q1 - 1.5 * IQR)) | (df['Revenue'] > (Q3 + 1.5 * IQR)))]"
   ]
  },
  {
   "cell_type": "code",
   "execution_count": 32,
   "id": "a5a575e8-ab6d-453f-ab02-cdf93421a17d",
   "metadata": {},
   "outputs": [
    {
     "data": {
      "text/plain": [
       "(2339, 14)"
      ]
     },
     "execution_count": 32,
     "metadata": {},
     "output_type": "execute_result"
    }
   ],
   "source": [
    "df.shape"
   ]
  },
  {
   "cell_type": "code",
   "execution_count": 33,
   "id": "c02455b2-c2ef-4548-bfd5-0ed21f4002a2",
   "metadata": {},
   "outputs": [
    {
     "data": {
      "text/html": [
       "<div>\n",
       "<style scoped>\n",
       "    .dataframe tbody tr th:only-of-type {\n",
       "        vertical-align: middle;\n",
       "    }\n",
       "\n",
       "    .dataframe tbody tr th {\n",
       "        vertical-align: top;\n",
       "    }\n",
       "\n",
       "    .dataframe thead th {\n",
       "        text-align: right;\n",
       "    }\n",
       "</style>\n",
       "<table border=\"1\" class=\"dataframe\">\n",
       "  <thead>\n",
       "    <tr style=\"text-align: right;\">\n",
       "      <th></th>\n",
       "      <th>Order_ID</th>\n",
       "      <th>Gender_Category</th>\n",
       "      <th>Product_Line</th>\n",
       "      <th>Product_Name</th>\n",
       "      <th>Size</th>\n",
       "      <th>Units_Sold</th>\n",
       "      <th>MRP</th>\n",
       "      <th>Discount_Applied</th>\n",
       "      <th>Revenue</th>\n",
       "      <th>Order_Date</th>\n",
       "      <th>Sales_Channel</th>\n",
       "      <th>Region</th>\n",
       "      <th>Profit</th>\n",
       "      <th>Loss_Flag</th>\n",
       "    </tr>\n",
       "  </thead>\n",
       "  <tbody>\n",
       "    <tr>\n",
       "      <th>0</th>\n",
       "      <td>2000</td>\n",
       "      <td>Kids</td>\n",
       "      <td>Training</td>\n",
       "      <td>SuperRep Go</td>\n",
       "      <td>M</td>\n",
       "      <td>2.0</td>\n",
       "      <td>6110.03</td>\n",
       "      <td>0.47</td>\n",
       "      <td>12162.625718</td>\n",
       "      <td>2024-03-09</td>\n",
       "      <td>Online</td>\n",
       "      <td>Bangalore</td>\n",
       "      <td>-770.45</td>\n",
       "      <td>True</td>\n",
       "    </tr>\n",
       "    <tr>\n",
       "      <th>1</th>\n",
       "      <td>2001</td>\n",
       "      <td>Women</td>\n",
       "      <td>Soccer</td>\n",
       "      <td>Tiempo Legend</td>\n",
       "      <td>M</td>\n",
       "      <td>3.0</td>\n",
       "      <td>4957.93</td>\n",
       "      <td>0.00</td>\n",
       "      <td>14873.790000</td>\n",
       "      <td>2024-07-09</td>\n",
       "      <td>Retail</td>\n",
       "      <td>Hyderabad</td>\n",
       "      <td>-112.53</td>\n",
       "      <td>True</td>\n",
       "    </tr>\n",
       "    <tr>\n",
       "      <th>2</th>\n",
       "      <td>2002</td>\n",
       "      <td>Women</td>\n",
       "      <td>Soccer</td>\n",
       "      <td>Premier III</td>\n",
       "      <td>M</td>\n",
       "      <td>4.0</td>\n",
       "      <td>6110.03</td>\n",
       "      <td>0.00</td>\n",
       "      <td>24440.120000</td>\n",
       "      <td>2024-12-21</td>\n",
       "      <td>Retail</td>\n",
       "      <td>Mumbai</td>\n",
       "      <td>3337.34</td>\n",
       "      <td>False</td>\n",
       "    </tr>\n",
       "    <tr>\n",
       "      <th>3</th>\n",
       "      <td>2003</td>\n",
       "      <td>Kids</td>\n",
       "      <td>Lifestyle</td>\n",
       "      <td>Blazer Mid</td>\n",
       "      <td>L</td>\n",
       "      <td>2.0</td>\n",
       "      <td>9673.57</td>\n",
       "      <td>0.00</td>\n",
       "      <td>19347.140000</td>\n",
       "      <td>2024-12-21</td>\n",
       "      <td>Online</td>\n",
       "      <td>Pune</td>\n",
       "      <td>3376.85</td>\n",
       "      <td>False</td>\n",
       "    </tr>\n",
       "    <tr>\n",
       "      <th>4</th>\n",
       "      <td>2004</td>\n",
       "      <td>Kids</td>\n",
       "      <td>Running</td>\n",
       "      <td>React Infinity</td>\n",
       "      <td>XL</td>\n",
       "      <td>2.0</td>\n",
       "      <td>6110.03</td>\n",
       "      <td>0.00</td>\n",
       "      <td>12220.060000</td>\n",
       "      <td>2024-12-21</td>\n",
       "      <td>Retail</td>\n",
       "      <td>Delhi</td>\n",
       "      <td>187.89</td>\n",
       "      <td>False</td>\n",
       "    </tr>\n",
       "  </tbody>\n",
       "</table>\n",
       "</div>"
      ],
      "text/plain": [
       "   Order_ID Gender_Category Product_Line    Product_Name Size  Units_Sold  \\\n",
       "0      2000            Kids     Training     SuperRep Go    M         2.0   \n",
       "1      2001           Women       Soccer   Tiempo Legend    M         3.0   \n",
       "2      2002           Women       Soccer     Premier III    M         4.0   \n",
       "3      2003            Kids    Lifestyle      Blazer Mid    L         2.0   \n",
       "4      2004            Kids      Running  React Infinity   XL         2.0   \n",
       "\n",
       "       MRP  Discount_Applied       Revenue Order_Date Sales_Channel  \\\n",
       "0  6110.03              0.47  12162.625718 2024-03-09        Online   \n",
       "1  4957.93              0.00  14873.790000 2024-07-09        Retail   \n",
       "2  6110.03              0.00  24440.120000 2024-12-21        Retail   \n",
       "3  9673.57              0.00  19347.140000 2024-12-21        Online   \n",
       "4  6110.03              0.00  12220.060000 2024-12-21        Retail   \n",
       "\n",
       "      Region   Profit  Loss_Flag  \n",
       "0  Bangalore  -770.45       True  \n",
       "1  Hyderabad  -112.53       True  \n",
       "2     Mumbai  3337.34      False  \n",
       "3       Pune  3376.85      False  \n",
       "4      Delhi   187.89      False  "
      ]
     },
     "execution_count": 33,
     "metadata": {},
     "output_type": "execute_result"
    }
   ],
   "source": [
    "df.head()"
   ]
  },
  {
   "cell_type": "code",
   "execution_count": 34,
   "id": "0cfa8d5d-d76d-4cc2-97b4-518ca8d9653e",
   "metadata": {},
   "outputs": [
    {
     "data": {
      "text/html": [
       "<div>\n",
       "<style scoped>\n",
       "    .dataframe tbody tr th:only-of-type {\n",
       "        vertical-align: middle;\n",
       "    }\n",
       "\n",
       "    .dataframe tbody tr th {\n",
       "        vertical-align: top;\n",
       "    }\n",
       "\n",
       "    .dataframe thead th {\n",
       "        text-align: right;\n",
       "    }\n",
       "</style>\n",
       "<table border=\"1\" class=\"dataframe\">\n",
       "  <thead>\n",
       "    <tr style=\"text-align: right;\">\n",
       "      <th></th>\n",
       "      <th>Order_ID</th>\n",
       "      <th>Units_Sold</th>\n",
       "      <th>MRP</th>\n",
       "      <th>Discount_Applied</th>\n",
       "      <th>Revenue</th>\n",
       "      <th>Order_Date</th>\n",
       "      <th>Profit</th>\n",
       "    </tr>\n",
       "  </thead>\n",
       "  <tbody>\n",
       "    <tr>\n",
       "      <th>count</th>\n",
       "      <td>2339.000000</td>\n",
       "      <td>2339.000000</td>\n",
       "      <td>2339.000000</td>\n",
       "      <td>2339.000000</td>\n",
       "      <td>2339.000000</td>\n",
       "      <td>2339</td>\n",
       "      <td>2339.000000</td>\n",
       "    </tr>\n",
       "    <tr>\n",
       "      <th>mean</th>\n",
       "      <td>3249.913211</td>\n",
       "      <td>1.858487</td>\n",
       "      <td>6023.505122</td>\n",
       "      <td>0.208563</td>\n",
       "      <td>11069.969386</td>\n",
       "      <td>2024-11-16 06:09:23.317656832</td>\n",
       "      <td>1387.742326</td>\n",
       "    </tr>\n",
       "    <tr>\n",
       "      <th>min</th>\n",
       "      <td>2000.000000</td>\n",
       "      <td>0.000000</td>\n",
       "      <td>2006.630000</td>\n",
       "      <td>0.000000</td>\n",
       "      <td>0.000000</td>\n",
       "      <td>2023-07-26 00:00:00</td>\n",
       "      <td>-1199.320000</td>\n",
       "    </tr>\n",
       "    <tr>\n",
       "      <th>25%</th>\n",
       "      <td>2623.500000</td>\n",
       "      <td>1.000000</td>\n",
       "      <td>6042.120000</td>\n",
       "      <td>0.000000</td>\n",
       "      <td>6110.030000</td>\n",
       "      <td>2024-12-21 00:00:00</td>\n",
       "      <td>102.925000</td>\n",
       "    </tr>\n",
       "    <tr>\n",
       "      <th>50%</th>\n",
       "      <td>3250.000000</td>\n",
       "      <td>2.000000</td>\n",
       "      <td>6110.030000</td>\n",
       "      <td>0.000000</td>\n",
       "      <td>12194.397874</td>\n",
       "      <td>2024-12-21 00:00:00</td>\n",
       "      <td>1377.720000</td>\n",
       "    </tr>\n",
       "    <tr>\n",
       "      <th>75%</th>\n",
       "      <td>3870.500000</td>\n",
       "      <td>2.000000</td>\n",
       "      <td>6110.030000</td>\n",
       "      <td>0.320000</td>\n",
       "      <td>13400.850000</td>\n",
       "      <td>2024-12-21 00:00:00</td>\n",
       "      <td>2686.870000</td>\n",
       "    </tr>\n",
       "    <tr>\n",
       "      <th>max</th>\n",
       "      <td>4499.000000</td>\n",
       "      <td>4.000000</td>\n",
       "      <td>9995.550000</td>\n",
       "      <td>1.250000</td>\n",
       "      <td>25889.250000</td>\n",
       "      <td>2025-07-22 00:00:00</td>\n",
       "      <td>3999.210000</td>\n",
       "    </tr>\n",
       "    <tr>\n",
       "      <th>std</th>\n",
       "      <td>722.609390</td>\n",
       "      <td>0.930005</td>\n",
       "      <td>1608.277225</td>\n",
       "      <td>0.363438</td>\n",
       "      <td>6054.453334</td>\n",
       "      <td>NaN</td>\n",
       "      <td>1479.051009</td>\n",
       "    </tr>\n",
       "  </tbody>\n",
       "</table>\n",
       "</div>"
      ],
      "text/plain": [
       "          Order_ID   Units_Sold          MRP  Discount_Applied       Revenue  \\\n",
       "count  2339.000000  2339.000000  2339.000000       2339.000000   2339.000000   \n",
       "mean   3249.913211     1.858487  6023.505122          0.208563  11069.969386   \n",
       "min    2000.000000     0.000000  2006.630000          0.000000      0.000000   \n",
       "25%    2623.500000     1.000000  6042.120000          0.000000   6110.030000   \n",
       "50%    3250.000000     2.000000  6110.030000          0.000000  12194.397874   \n",
       "75%    3870.500000     2.000000  6110.030000          0.320000  13400.850000   \n",
       "max    4499.000000     4.000000  9995.550000          1.250000  25889.250000   \n",
       "std     722.609390     0.930005  1608.277225          0.363438   6054.453334   \n",
       "\n",
       "                          Order_Date       Profit  \n",
       "count                           2339  2339.000000  \n",
       "mean   2024-11-16 06:09:23.317656832  1387.742326  \n",
       "min              2023-07-26 00:00:00 -1199.320000  \n",
       "25%              2024-12-21 00:00:00   102.925000  \n",
       "50%              2024-12-21 00:00:00  1377.720000  \n",
       "75%              2024-12-21 00:00:00  2686.870000  \n",
       "max              2025-07-22 00:00:00  3999.210000  \n",
       "std                              NaN  1479.051009  "
      ]
     },
     "execution_count": 34,
     "metadata": {},
     "output_type": "execute_result"
    }
   ],
   "source": [
    "df.describe()\n"
   ]
  },
  {
   "cell_type": "code",
   "execution_count": 38,
   "id": "657e103d-6bba-4f9b-8f05-92756c87e17f",
   "metadata": {},
   "outputs": [],
   "source": [
    "df = df[df['Units_Sold'] > 0]  # keeps only rows where Units_Sold is positive\n"
   ]
  },
  {
   "cell_type": "markdown",
   "id": "bef775a4-5764-4e96-a43c-11a282214a9c",
   "metadata": {},
   "source": [
    "# Step 9: Final Data Validation & Double-Check\n",
    " Purpose: Ensure dataset is clean and ready for analysis"
   ]
  },
  {
   "cell_type": "code",
   "execution_count": 40,
   "id": "3818dad5-1f8e-4f5e-8068-b7ded0386f31",
   "metadata": {},
   "outputs": [
    {
     "name": "stdout",
     "output_type": "stream",
     "text": [
      "---- Null Values per Column ----\n",
      "Order_ID            0\n",
      "Gender_Category     0\n",
      "Product_Line        0\n",
      "Product_Name        0\n",
      "Size                0\n",
      "Units_Sold          0\n",
      "MRP                 0\n",
      "Discount_Applied    0\n",
      "Revenue             0\n",
      "Order_Date          0\n",
      "Sales_Channel       0\n",
      "Region              0\n",
      "Profit              0\n",
      "Loss_Flag           0\n",
      "dtype: int64\n",
      "\n",
      "\n",
      "🧾 Invalid Units_Sold (<0): 0 rows\n",
      "Empty DataFrame\n",
      "Columns: [Units_Sold, Product_Name, Region]\n",
      "Index: [] \n",
      "\n",
      "💰 Invalid MRP (<=0): 0 rows\n",
      "Empty DataFrame\n",
      "Columns: [MRP, Product_Name]\n",
      "Index: [] \n",
      "\n",
      "🎟️ Invalid Discounts (<0 or >100): 0 rows\n",
      "Empty DataFrame\n",
      "Columns: [Discount_Applied, Product_Name, Region]\n",
      "Index: [] \n",
      "\n",
      "---- Column Data Types ----\n",
      "Order_ID                     int64\n",
      "Gender_Category             object\n",
      "Product_Line                object\n",
      "Product_Name                object\n",
      "Size                        object\n",
      "Units_Sold                 float64\n",
      "MRP                        float64\n",
      "Discount_Applied           float64\n",
      "Revenue                    float64\n",
      "Order_Date          datetime64[ns]\n",
      "Sales_Channel               object\n",
      "Region                      object\n",
      "Profit                     float64\n",
      "Loss_Flag                     bool\n",
      "dtype: object \n",
      "\n",
      "---- Unique Regions ----\n",
      "['Bangalore' 'Hyderabad' 'Mumbai' 'Pune' 'Delhi' 'Kolkata']\n",
      "\n",
      "---- Unique Product Lines ----\n",
      "['Training' 'Soccer' 'Lifestyle' 'Running' 'Basketball']\n",
      "\n",
      "---- Unique Gender Categories ----\n",
      "['Kids' 'Women' 'Men'] \n",
      "\n",
      "Duplicate Order_IDs: 0\n"
     ]
    }
   ],
   "source": [
    "# ==============================\n",
    "# Step X: Final Data Validation & Double-Check\n",
    "# Purpose: Ensure dataset is clean and ready for analysis\n",
    "# ==============================\n",
    "\n",
    "# 1️⃣ Check for null values\n",
    "print(\"---- Null Values per Column ----\")\n",
    "print(df.isnull().sum())\n",
    "print(\"\\n\")\n",
    "\n",
    "# 2️⃣ Check for negative Units_Sold\n",
    "invalid_units = df[df['Units_Sold'] <= 0]\n",
    "print(f\"🧾 Invalid Units_Sold (<0): {len(invalid_units)} rows\")\n",
    "print(invalid_units[['Units_Sold', 'Product_Name', 'Region']].head(), \"\\n\")\n",
    "\n",
    "# 3️⃣ Check for negative or zero MRP\n",
    "invalid_mrp = df[df['MRP'] <= 0]\n",
    "print(f\"💰 Invalid MRP (<=0): {len(invalid_mrp)} rows\")\n",
    "print(invalid_mrp[['MRP', 'Product_Name']].head(), \"\\n\")\n",
    "\n",
    "# 4️⃣ Check for unrealistic discounts (<0 or >100)\n",
    "invalid_discount = df[(df['Discount_Applied'] < 0) | (df['Discount_Applied'] > 100)]\n",
    "print(f\"🎟️ Invalid Discounts (<0 or >100): {len(invalid_discount)} rows\")\n",
    "print(invalid_discount[['Discount_Applied', 'Product_Name', 'Region']].head(), \"\\n\")\n",
    "\n",
    "\n",
    "# Check data types\n",
    "print(\"---- Column Data Types ----\")\n",
    "print(df.dtypes, \"\\n\")\n",
    "\n",
    "# Spot-check categorical values\n",
    "print(\"---- Unique Regions ----\")\n",
    "print(df['Region'].unique())\n",
    "print(\"\\n---- Unique Product Lines ----\")\n",
    "print(df['Product_Line'].unique())\n",
    "print(\"\\n---- Unique Gender Categories ----\")\n",
    "print(df['Gender_Category'].unique(), \"\\n\")\n",
    "\n",
    "# Check for duplicate Order_IDs\n",
    "duplicate_orders = df.duplicated(subset='Order_ID').sum()\n",
    "print(f\"Duplicate Order_IDs: {duplicate_orders}\")\n"
   ]
  },
  {
   "cell_type": "markdown",
   "id": "819fce37-0adf-4fe4-ab70-468f2974a364",
   "metadata": {},
   "source": [
    "# Loading\n",
    "The cleaned and transformed dataset is now ready for analysis, visualization, and business decision-making.  \n",
    "We save the cleaned dataset as a CSV so it can be easily used in dashboards (Power BI / Tableau) or further analysis.\n"
   ]
  },
  {
   "cell_type": "code",
   "execution_count": 41,
   "id": "0ccac4c5-1a68-4463-8d7c-1baf2a5b4e5c",
   "metadata": {},
   "outputs": [],
   "source": [
    "# Save the cleaned DataFrame to the 'data' folder (one level up from notebooks)\n",
    "df.to_csv(\"../data/Nike_Sales_Cleaned.csv\", index=False)"
   ]
  },
  {
   "cell_type": "code",
   "execution_count": 43,
   "id": "89326072-9cd9-47f0-9cd1-ffa509b0d5a8",
   "metadata": {},
   "outputs": [
    {
     "data": {
      "text/plain": [
       "(2123, 14)"
      ]
     },
     "execution_count": 43,
     "metadata": {},
     "output_type": "execute_result"
    }
   ],
   "source": [
    "df.shape"
   ]
  },
  {
   "cell_type": "markdown",
   "id": "e386bb5e-a241-44ca-9bd9-3ffc217a2bab",
   "metadata": {},
   "source": [
    "# ETL Pipeline Complete\n",
    "\n",
    "We have successfully completed the **End-to-End ETL Pipeline** for the Nike sales dataset.  \n",
    "\n",
    "**Summary of what has been done:**\n",
    "- **Extracted** the raw data from CSV into Python.  \n",
    "- **Transformed** the data by cleaning missing values, correcting typos, standardizing categories, handling negative/zero values, recalculating revenue, and validating all key columns.  \n",
    "- **Loaded** the cleaned dataset into both a CSV file and optionally a SQLite database, ready for analysis, dashboards, and business insights.  \n",
    "\n",
    "The data is now **clean, structured, and ready for exploratory analysis, visualization, and predictive modeling**, forming a strong foundation for building a portfolio-ready project.\n"
   ]
  },
  {
   "cell_type": "code",
   "execution_count": null,
   "id": "53ddcc92-7a2b-405e-a3e5-ccad9469fa9e",
   "metadata": {},
   "outputs": [],
   "source": []
  }
 ],
 "metadata": {
  "kernelspec": {
   "display_name": "Python 3 (ipykernel)",
   "language": "python",
   "name": "python3"
  },
  "language_info": {
   "codemirror_mode": {
    "name": "ipython",
    "version": 3
   },
   "file_extension": ".py",
   "mimetype": "text/x-python",
   "name": "python",
   "nbconvert_exporter": "python",
   "pygments_lexer": "ipython3",
   "version": "3.12.5"
  }
 },
 "nbformat": 4,
 "nbformat_minor": 5
}
